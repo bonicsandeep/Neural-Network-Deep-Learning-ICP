{
  "cells": [
    {
      "cell_type": "markdown",
      "source": [
        "#Neural Networks & Deep Learning - ICP-6"
      ],
      "metadata": {
        "id": "_f3RXeRbhHEH"
      }
    },
    {
      "cell_type": "markdown",
      "source": [
        "1. Save the model and use the saved model to predict on new text data (ex, “A lot of good things are happening. We are respected again throughout the world, and that's a great thing .@realDonaldTrump”)"
      ],
      "metadata": {
        "id": "-UNcOX5YhQYN"
      }
    },
    {
      "cell_type": "code",
      "execution_count": 1,
      "metadata": {
        "id": "IIojf9jesFca"
      },
      "outputs": [],
      "source": [
        "import pandas as pd #Basic packages for creating dataframes and loading dataset\n",
        "import numpy as np\n",
        "\n",
        "import matplotlib.pyplot as plt #Package for visualization\n",
        "\n",
        "import re #importing package for Regular expression operations\n",
        "\n",
        "from sklearn.model_selection import train_test_split #Package for splitting the data\n",
        "\n",
        "from sklearn.preprocessing import LabelEncoder #Package for conversion of categorical to Numerical\n",
        "\n",
        "from keras.preprocessing.text import Tokenizer #Tokenization\n",
        "from tensorflow.keras.preprocessing.sequence import pad_sequences #Add zeros or crop based on the length\n",
        "from keras.models import Sequential #Sequential Neural Network\n",
        "from keras.layers import Dense, Embedding, LSTM, SpatialDropout1D #For layers in Neural Network\n",
        "from keras.utils import to_categorical"
      ]
    },
    {
      "cell_type": "code",
      "execution_count": 2,
      "metadata": {
        "id": "F_9MkNrLtMPD"
      },
      "outputs": [],
      "source": [
        "import pandas as pd\n",
        "data = pd.read_csv('Sentiment.csv')\n",
        "# Keeping only the neccessary columns\n",
        "data = data[['text','sentiment']]"
      ]
    },
    {
      "cell_type": "code",
      "execution_count": 3,
      "metadata": {
        "id": "OgLqKOk-wTI7"
      },
      "outputs": [],
      "source": [
        "data['text'] = data['text'].apply(lambda x: x.lower())\n",
        "data['text'] = data['text'].apply((lambda x: re.sub('[^a-zA-z0-9\\s]', '', x)))"
      ]
    },
    {
      "cell_type": "code",
      "execution_count": 4,
      "metadata": {
        "id": "kezr9unryjzm"
      },
      "outputs": [],
      "source": [
        "for idx, row in data.iterrows():\n",
        "    row[0] = row[0].replace('rt', ' ') #Removing Retweets"
      ]
    },
    {
      "cell_type": "code",
      "execution_count": 5,
      "metadata": {
        "id": "rXTEJG_RyzqR"
      },
      "outputs": [],
      "source": [
        "max_fatures = 2000\n",
        "tokenizer = Tokenizer(num_words=max_fatures, split=' ') #Maximum words is 2000 to tokenize sentence\n",
        "tokenizer.fit_on_texts(data['text'].values)\n",
        "X = tokenizer.texts_to_sequences(data['text'].values) #taking values to feature matrix\n"
      ]
    },
    {
      "cell_type": "code",
      "execution_count": 6,
      "metadata": {
        "id": "TgLvgT52y30W"
      },
      "outputs": [],
      "source": [
        "X = pad_sequences(X) #Padding the feature matrix\n",
        "\n",
        "embed_dim = 128 #Dimension of the Embedded layer\n",
        "lstm_out = 196 #Long short-term memory (LSTM) layer neurons"
      ]
    },
    {
      "cell_type": "code",
      "execution_count": 7,
      "metadata": {
        "id": "zMTB8dQjy65b"
      },
      "outputs": [],
      "source": [
        "def createmodel():\n",
        "    model = Sequential() #Sequential Neural Network\n",
        "    model.add(Embedding(max_fatures, embed_dim,input_length = X.shape[1])) #input dimension 2000 Neurons, output dimension 128 Neurons\n",
        "    model.add(LSTM(lstm_out, dropout=0.2, recurrent_dropout=0.2)) #Drop out 20%, 196 output Neurons, recurrent dropout 20%\n",
        "    model.add(Dense(3,activation='softmax')) #3 output neurons[positive, Neutral, Negative], softmax as activation\n",
        "    model.compile(loss = 'categorical_crossentropy', optimizer='adam',metrics = ['accuracy']) #Compiling the model\n",
        "    return model"
      ]
    },
    {
      "cell_type": "code",
      "execution_count": 8,
      "metadata": {
        "id": "OwETgBSZy-2X"
      },
      "outputs": [],
      "source": [
        "labelencoder = LabelEncoder() #Applying label Encoding on the label matrix\n",
        "integer_encoded = labelencoder.fit_transform(data['sentiment']) #fitting the model\n",
        "y = to_categorical(integer_encoded)\n",
        "X_train, X_test, Y_train, Y_test = train_test_split(X,y, test_size = 0.33, random_state = 42) #67% training data, 33% test data split"
      ]
    },
    {
      "cell_type": "code",
      "execution_count": 9,
      "metadata": {
        "colab": {
          "base_uri": "https://localhost:8080/"
        },
        "id": "qSjFXx1rzDuS",
        "outputId": "de71e26b-7645-4780-f037-0c0af53c9661"
      },
      "outputs": [
        {
          "output_type": "stream",
          "name": "stderr",
          "text": [
            "WARNING:tensorflow:Layer lstm will not use cuDNN kernels since it doesn't meet the criteria. It will use a generic GPU kernel as fallback when running on GPU.\n"
          ]
        },
        {
          "output_type": "stream",
          "name": "stdout",
          "text": [
            "291/291 - 46s - loss: 0.8203 - accuracy: 0.6473 - 46s/epoch - 159ms/step\n",
            "144/144 - 2s - loss: 0.7429 - accuracy: 0.6710 - 2s/epoch - 12ms/step\n",
            "0.7429136037826538\n",
            "0.6710354089736938\n"
          ]
        }
      ],
      "source": [
        "batch_size = 32 #Batch size 32\n",
        "model = createmodel() #Function call to Sequential Neural Network\n",
        "model.fit(X_train, Y_train, epochs = 1, batch_size=batch_size, verbose = 2) #verbose the higher, the more messages\n",
        "score,acc = model.evaluate(X_test,Y_test,verbose=2,batch_size=batch_size) #evaluating the model\n",
        "print(score)\n",
        "print(acc)"
      ]
    },
    {
      "cell_type": "code",
      "execution_count": 10,
      "metadata": {
        "colab": {
          "base_uri": "https://localhost:8080/"
        },
        "id": "Bf2EvPG9zeic",
        "outputId": "282ddfa0-1967-4bec-dca4-208049f66e64"
      },
      "outputs": [
        {
          "output_type": "stream",
          "name": "stdout",
          "text": [
            "['loss', 'accuracy']\n"
          ]
        }
      ],
      "source": [
        "print(model.metrics_names) #metrics of the model"
      ]
    },
    {
      "cell_type": "code",
      "execution_count": 11,
      "metadata": {
        "id": "f3kajJNlzqml",
        "colab": {
          "base_uri": "https://localhost:8080/"
        },
        "outputId": "1bec56bc-c73c-485a-fcb2-2946c280a560"
      },
      "outputs": [
        {
          "output_type": "stream",
          "name": "stderr",
          "text": [
            "/usr/local/lib/python3.10/dist-packages/keras/src/engine/training.py:3103: UserWarning: You are saving your model as an HDF5 file via `model.save()`. This file format is considered legacy. We recommend using instead the native Keras format, e.g. `model.save('my_model.keras')`.\n",
            "  saving_api.save_model(\n"
          ]
        }
      ],
      "source": [
        "model.save('sentimentAnalysis.h5') #Saving the model"
      ]
    },
    {
      "cell_type": "code",
      "execution_count": 12,
      "metadata": {
        "colab": {
          "base_uri": "https://localhost:8080/"
        },
        "id": "xpAA1CTIzt-9",
        "outputId": "3f82fb23-1589-4cde-9882-efa5ce55d986"
      },
      "outputs": [
        {
          "output_type": "stream",
          "name": "stderr",
          "text": [
            "WARNING:tensorflow:Layer lstm will not use cuDNN kernels since it doesn't meet the criteria. It will use a generic GPU kernel as fallback when running on GPU.\n"
          ]
        }
      ],
      "source": [
        "from keras.models import load_model #Importing the package for importing the saved model\n",
        "model= load_model('sentimentAnalysis.h5') #loading the saved model"
      ]
    },
    {
      "cell_type": "code",
      "execution_count": 13,
      "metadata": {
        "colab": {
          "base_uri": "https://localhost:8080/"
        },
        "id": "uDetTd52zzA1",
        "outputId": "59024d57-9257-4b82-8066-aa32bc7657a1"
      },
      "outputs": [
        {
          "output_type": "stream",
          "name": "stdout",
          "text": [
            "[1 2 1 ... 2 0 2]\n",
            "0         Neutral\n",
            "1        Positive\n",
            "2         Neutral\n",
            "3        Positive\n",
            "4        Positive\n",
            "           ...   \n",
            "13866    Negative\n",
            "13867    Positive\n",
            "13868    Positive\n",
            "13869    Negative\n",
            "13870    Positive\n",
            "Name: sentiment, Length: 13871, dtype: object\n"
          ]
        }
      ],
      "source": [
        "print(integer_encoded)\n",
        "print(data['sentiment'])"
      ]
    },
    {
      "cell_type": "code",
      "execution_count": 14,
      "metadata": {
        "colab": {
          "base_uri": "https://localhost:8080/"
        },
        "id": "nmt0a-S8z3vM",
        "outputId": "73176aa0-0d4a-4962-ea6a-3f913a674033"
      },
      "outputs": [
        {
          "output_type": "stream",
          "name": "stdout",
          "text": [
            "1/1 - 0s - 332ms/epoch - 332ms/step\n",
            "[0.7570767  0.08708615 0.15583722]\n",
            "Neutral\n"
          ]
        }
      ],
      "source": [
        "# Predicting on the text data\n",
        "sentence = ['A lot of good things are happening. We are respected again throughout the world, and that is a great thing.@realDonaldTrump']\n",
        "sentence = tokenizer.texts_to_sequences(sentence) # Tokenizing the sentence\n",
        "sentence = pad_sequences(sentence, maxlen=28, dtype='int32', value=0) # Padding the sentence\n",
        "sentiment_probs = model.predict(sentence, batch_size=1, verbose=2)[0] # Predicting the sentence text\n",
        "sentiment = np.argmax(sentiment_probs)\n",
        "\n",
        "print(sentiment_probs)\n",
        "if sentiment == 0:\n",
        "    print(\"Neutral\")\n",
        "elif sentiment < 0:\n",
        "    print(\"Negative\")\n",
        "elif sentiment > 0:\n",
        "    print(\"Positive\")\n",
        "else:\n",
        "    print(\"Cannot be determined\")\n"
      ]
    },
    {
      "cell_type": "markdown",
      "metadata": {
        "id": "QEnfsO0OCvFB"
      },
      "source": [
        "2. Apply GridSearchCV on the source code provided in the class"
      ]
    },
    {
      "cell_type": "code",
      "execution_count": null,
      "metadata": {
        "colab": {
          "base_uri": "https://localhost:8080/"
        },
        "id": "cNyJbCLR1e3A",
        "outputId": "5631dadb-6248-4a42-8041-a6c28d8f925c"
      },
      "outputs": [
        {
          "name": "stderr",
          "output_type": "stream",
          "text": [
            "C:\\Users\\bonic\\AppData\\Local\\Temp\\ipykernel_70636\\140920398.py:4: DeprecationWarning: KerasClassifier is deprecated, use Sci-Keras (https://github.com/adriangb/scikeras) instead. See https://www.adriangb.com/scikeras/stable/migration.html for help migrating.\n",
            "  model = KerasClassifier(build_fn=createmodel,verbose=2) #initiating model to test performance by applying multiple hyper parameters\n"
          ]
        },
        {
          "name": "stdout",
          "output_type": "stream",
          "text": [
            "WARNING:tensorflow:Layer lstm_11 will not use cuDNN kernels since it doesn't meet the criteria. It will use a generic GPU kernel as fallback when running on GPU.\n",
            "744/744 - 488s - loss: 0.8272 - accuracy: 0.6441 - 488s/epoch - 656ms/step\n",
            "186/186 - 15s - loss: 0.7594 - accuracy: 0.6746 - 15s/epoch - 83ms/step\n",
            "WARNING:tensorflow:Layer lstm_12 will not use cuDNN kernels since it doesn't meet the criteria. It will use a generic GPU kernel as fallback when running on GPU.\n",
            "744/744 - 493s - loss: 0.8155 - accuracy: 0.6486 - 493s/epoch - 662ms/step\n",
            "186/186 - 15s - loss: 0.8050 - accuracy: 0.6509 - 15s/epoch - 80ms/step\n",
            "WARNING:tensorflow:Layer lstm_13 will not use cuDNN kernels since it doesn't meet the criteria. It will use a generic GPU kernel as fallback when running on GPU.\n",
            "744/744 - 486s - loss: 0.8222 - accuracy: 0.6458 - 486s/epoch - 654ms/step\n",
            "186/186 - 16s - loss: 0.7419 - accuracy: 0.6794 - 16s/epoch - 85ms/step\n",
            "WARNING:tensorflow:Layer lstm_14 will not use cuDNN kernels since it doesn't meet the criteria. It will use a generic GPU kernel as fallback when running on GPU.\n",
            "744/744 - 489s - loss: 0.8212 - accuracy: 0.6468 - 489s/epoch - 658ms/step\n",
            "186/186 - 16s - loss: 0.7551 - accuracy: 0.6652 - 16s/epoch - 85ms/step\n",
            "WARNING:tensorflow:Layer lstm_15 will not use cuDNN kernels since it doesn't meet the criteria. It will use a generic GPU kernel as fallback when running on GPU.\n",
            "744/744 - 489s - loss: 0.8330 - accuracy: 0.6406 - 489s/epoch - 657ms/step\n",
            "186/186 - 16s - loss: 0.8364 - accuracy: 0.6249 - 16s/epoch - 84ms/step\n",
            "WARNING:tensorflow:Layer lstm_16 will not use cuDNN kernels since it doesn't meet the criteria. It will use a generic GPU kernel as fallback when running on GPU.\n",
            "Epoch 1/2\n",
            "744/744 - 479s - loss: 0.8297 - accuracy: 0.6430 - 479s/epoch - 643ms/step\n",
            "Epoch 2/2\n",
            "744/744 - 417s - loss: 0.6820 - accuracy: 0.7068 - 417s/epoch - 560ms/step\n",
            "186/186 - 16s - loss: 0.7355 - accuracy: 0.6719 - 16s/epoch - 85ms/step\n",
            "WARNING:tensorflow:Layer lstm_17 will not use cuDNN kernels since it doesn't meet the criteria. It will use a generic GPU kernel as fallback when running on GPU.\n",
            "Epoch 1/2\n",
            "744/744 - 339s - loss: 0.8194 - accuracy: 0.6482 - 339s/epoch - 455ms/step\n",
            "Epoch 2/2\n",
            "744/744 - 206s - loss: 0.6825 - accuracy: 0.7125 - 206s/epoch - 277ms/step\n",
            "186/186 - 10s - loss: 0.7413 - accuracy: 0.6724 - 10s/epoch - 56ms/step\n",
            "WARNING:tensorflow:Layer lstm_18 will not use cuDNN kernels since it doesn't meet the criteria. It will use a generic GPU kernel as fallback when running on GPU.\n",
            "Epoch 1/2\n",
            "744/744 - 365s - loss: 0.8192 - accuracy: 0.6442 - 365s/epoch - 491ms/step\n",
            "Epoch 2/2\n",
            "744/744 - 375s - loss: 0.6765 - accuracy: 0.7096 - 375s/epoch - 505ms/step\n",
            "186/186 - 12s - loss: 0.7420 - accuracy: 0.6805 - 12s/epoch - 67ms/step\n",
            "WARNING:tensorflow:Layer lstm_19 will not use cuDNN kernels since it doesn't meet the criteria. It will use a generic GPU kernel as fallback when running on GPU.\n",
            "Epoch 1/2\n",
            "744/744 - 368s - loss: 0.8268 - accuracy: 0.6386 - 368s/epoch - 495ms/step\n",
            "Epoch 2/2\n",
            "744/744 - 368s - loss: 0.6719 - accuracy: 0.7089 - 368s/epoch - 494ms/step\n",
            "186/186 - 13s - loss: 0.7448 - accuracy: 0.6798 - 13s/epoch - 68ms/step\n",
            "WARNING:tensorflow:Layer lstm_20 will not use cuDNN kernels since it doesn't meet the criteria. It will use a generic GPU kernel as fallback when running on GPU.\n",
            "Epoch 1/2\n",
            "744/744 - 381s - loss: 0.8203 - accuracy: 0.6487 - 381s/epoch - 512ms/step\n",
            "Epoch 2/2\n",
            "744/744 - 363s - loss: 0.6686 - accuracy: 0.7182 - 363s/epoch - 489ms/step\n",
            "186/186 - 12s - loss: 0.8071 - accuracy: 0.6771 - 12s/epoch - 62ms/step\n",
            "WARNING:tensorflow:Layer lstm_21 will not use cuDNN kernels since it doesn't meet the criteria. It will use a generic GPU kernel as fallback when running on GPU.\n",
            "372/372 - 6277s - loss: 0.8344 - accuracy: 0.6387 - 6277s/epoch - 17s/step\n",
            "93/93 - 8s - loss: 0.7461 - accuracy: 0.6622 - 8s/epoch - 91ms/step\n",
            "WARNING:tensorflow:Layer lstm_22 will not use cuDNN kernels since it doesn't meet the criteria. It will use a generic GPU kernel as fallback when running on GPU.\n",
            "372/372 - 248s - loss: 0.8265 - accuracy: 0.6455 - 248s/epoch - 667ms/step\n",
            "93/93 - 9s - loss: 0.7642 - accuracy: 0.6789 - 9s/epoch - 98ms/step\n",
            "WARNING:tensorflow:Layer lstm_23 will not use cuDNN kernels since it doesn't meet the criteria. It will use a generic GPU kernel as fallback when running on GPU.\n",
            "372/372 - 247s - loss: 0.8236 - accuracy: 0.6390 - 247s/epoch - 664ms/step\n",
            "93/93 - 9s - loss: 0.7566 - accuracy: 0.6815 - 9s/epoch - 96ms/step\n",
            "WARNING:tensorflow:Layer lstm_24 will not use cuDNN kernels since it doesn't meet the criteria. It will use a generic GPU kernel as fallback when running on GPU.\n",
            "372/372 - 257s - loss: 0.8345 - accuracy: 0.6386 - 257s/epoch - 692ms/step\n",
            "93/93 - 8s - loss: 0.7543 - accuracy: 0.6781 - 8s/epoch - 88ms/step\n",
            "WARNING:tensorflow:Layer lstm_25 will not use cuDNN kernels since it doesn't meet the criteria. It will use a generic GPU kernel as fallback when running on GPU.\n",
            "372/372 - 258s - loss: 0.8234 - accuracy: 0.6441 - 258s/epoch - 692ms/step\n",
            "93/93 - 8s - loss: 0.7720 - accuracy: 0.6733 - 8s/epoch - 91ms/step\n",
            "WARNING:tensorflow:Layer lstm_26 will not use cuDNN kernels since it doesn't meet the criteria. It will use a generic GPU kernel as fallback when running on GPU.\n",
            "Epoch 1/2\n",
            "372/372 - 261s - loss: 0.8298 - accuracy: 0.6433 - 261s/epoch - 701ms/step\n",
            "Epoch 2/2\n",
            "372/372 - 255s - loss: 0.6829 - accuracy: 0.7140 - 255s/epoch - 685ms/step\n",
            "93/93 - 9s - loss: 0.7394 - accuracy: 0.6767 - 9s/epoch - 99ms/step\n",
            "WARNING:tensorflow:Layer lstm_27 will not use cuDNN kernels since it doesn't meet the criteria. It will use a generic GPU kernel as fallback when running on GPU.\n",
            "Epoch 1/2\n",
            "372/372 - 257s - loss: 0.8222 - accuracy: 0.6523 - 257s/epoch - 692ms/step\n",
            "Epoch 2/2\n",
            "372/372 - 240s - loss: 0.6829 - accuracy: 0.7090 - 240s/epoch - 646ms/step\n",
            "93/93 - 9s - loss: 0.7491 - accuracy: 0.6799 - 9s/epoch - 93ms/step\n",
            "WARNING:tensorflow:Layer lstm_28 will not use cuDNN kernels since it doesn't meet the criteria. It will use a generic GPU kernel as fallback when running on GPU.\n",
            "Epoch 1/2\n",
            "372/372 - 249s - loss: 0.8237 - accuracy: 0.6462 - 249s/epoch - 669ms/step\n",
            "Epoch 2/2\n",
            "372/372 - 1760s - loss: 0.6779 - accuracy: 0.7163 - 1760s/epoch - 5s/step\n",
            "93/93 - 5s - loss: 0.7477 - accuracy: 0.6848 - 5s/epoch - 56ms/step\n",
            "WARNING:tensorflow:Layer lstm_29 will not use cuDNN kernels since it doesn't meet the criteria. It will use a generic GPU kernel as fallback when running on GPU.\n",
            "Epoch 1/2\n",
            "372/372 - 172s - loss: 0.8271 - accuracy: 0.6467 - 172s/epoch - 462ms/step\n",
            "Epoch 2/2\n",
            "372/372 - 165s - loss: 0.6803 - accuracy: 0.7052 - 165s/epoch - 443ms/step\n",
            "93/93 - 6s - loss: 0.7489 - accuracy: 0.6647 - 6s/epoch - 65ms/step\n",
            "WARNING:tensorflow:Layer lstm_30 will not use cuDNN kernels since it doesn't meet the criteria. It will use a generic GPU kernel as fallback when running on GPU.\n",
            "Epoch 1/2\n",
            "372/372 - 173s - loss: 0.8206 - accuracy: 0.6440 - 173s/epoch - 465ms/step\n",
            "Epoch 2/2\n",
            "372/372 - 165s - loss: 0.6636 - accuracy: 0.7190 - 165s/epoch - 442ms/step\n",
            "93/93 - 6s - loss: 0.7753 - accuracy: 0.6625 - 6s/epoch - 67ms/step\n",
            "WARNING:tensorflow:Layer lstm_31 will not use cuDNN kernels since it doesn't meet the criteria. It will use a generic GPU kernel as fallback when running on GPU.\n",
            "186/186 - 93s - loss: 0.8438 - accuracy: 0.6345 - 93s/epoch - 499ms/step\n",
            "47/47 - 4s - loss: 0.7729 - accuracy: 0.6633 - 4s/epoch - 79ms/step\n",
            "WARNING:tensorflow:Layer lstm_32 will not use cuDNN kernels since it doesn't meet the criteria. It will use a generic GPU kernel as fallback when running on GPU.\n",
            "186/186 - 96s - loss: 0.8415 - accuracy: 0.6348 - 96s/epoch - 518ms/step\n",
            "47/47 - 4s - loss: 0.7774 - accuracy: 0.6703 - 4s/epoch - 76ms/step\n",
            "WARNING:tensorflow:Layer lstm_33 will not use cuDNN kernels since it doesn't meet the criteria. It will use a generic GPU kernel as fallback when running on GPU.\n",
            "186/186 - 93s - loss: 0.8436 - accuracy: 0.6338 - 93s/epoch - 501ms/step\n",
            "47/47 - 3s - loss: 0.7828 - accuracy: 0.6778 - 3s/epoch - 67ms/step\n",
            "WARNING:tensorflow:Layer lstm_34 will not use cuDNN kernels since it doesn't meet the criteria. It will use a generic GPU kernel as fallback when running on GPU.\n",
            "186/186 - 94s - loss: 0.8508 - accuracy: 0.6305 - 94s/epoch - 507ms/step\n",
            "47/47 - 4s - loss: 0.7629 - accuracy: 0.6636 - 4s/epoch - 76ms/step\n",
            "WARNING:tensorflow:Layer lstm_35 will not use cuDNN kernels since it doesn't meet the criteria. It will use a generic GPU kernel as fallback when running on GPU.\n",
            "186/186 - 99s - loss: 0.8385 - accuracy: 0.6405 - 99s/epoch - 534ms/step\n",
            "47/47 - 4s - loss: 0.7823 - accuracy: 0.6593 - 4s/epoch - 76ms/step\n",
            "WARNING:tensorflow:Layer lstm_36 will not use cuDNN kernels since it doesn't meet the criteria. It will use a generic GPU kernel as fallback when running on GPU.\n",
            "Epoch 1/2\n",
            "186/186 - 97s - loss: 0.8454 - accuracy: 0.6361 - 97s/epoch - 521ms/step\n",
            "Epoch 2/2\n",
            "186/186 - 89s - loss: 0.6914 - accuracy: 0.7015 - 89s/epoch - 478ms/step\n",
            "47/47 - 3s - loss: 0.7287 - accuracy: 0.6799 - 3s/epoch - 73ms/step\n",
            "WARNING:tensorflow:Layer lstm_37 will not use cuDNN kernels since it doesn't meet the criteria. It will use a generic GPU kernel as fallback when running on GPU.\n",
            "Epoch 1/2\n",
            "186/186 - 99s - loss: 0.8429 - accuracy: 0.6395 - 99s/epoch - 532ms/step\n",
            "Epoch 2/2\n",
            "186/186 - 93s - loss: 0.6938 - accuracy: 0.6996 - 93s/epoch - 498ms/step\n",
            "47/47 - 4s - loss: 0.7385 - accuracy: 0.6885 - 4s/epoch - 75ms/step\n",
            "WARNING:tensorflow:Layer lstm_38 will not use cuDNN kernels since it doesn't meet the criteria. It will use a generic GPU kernel as fallback when running on GPU.\n",
            "Epoch 1/2\n",
            "186/186 - 99s - loss: 0.8479 - accuracy: 0.6303 - 99s/epoch - 535ms/step\n",
            "Epoch 2/2\n",
            "186/186 - 93s - loss: 0.6895 - accuracy: 0.7078 - 93s/epoch - 498ms/step\n",
            "47/47 - 4s - loss: 0.7468 - accuracy: 0.6896 - 4s/epoch - 82ms/step\n",
            "WARNING:tensorflow:Layer lstm_39 will not use cuDNN kernels since it doesn't meet the criteria. It will use a generic GPU kernel as fallback when running on GPU.\n",
            "Epoch 1/2\n",
            "186/186 - 98s - loss: 0.8529 - accuracy: 0.6371 - 98s/epoch - 525ms/step\n",
            "Epoch 2/2\n",
            "186/186 - 93s - loss: 0.6828 - accuracy: 0.7080 - 93s/epoch - 502ms/step\n",
            "47/47 - 4s - loss: 0.7313 - accuracy: 0.6830 - 4s/epoch - 75ms/step\n",
            "WARNING:tensorflow:Layer lstm_40 will not use cuDNN kernels since it doesn't meet the criteria. It will use a generic GPU kernel as fallback when running on GPU.\n",
            "Epoch 1/2\n",
            "186/186 - 97s - loss: 0.8407 - accuracy: 0.6358 - 97s/epoch - 524ms/step\n",
            "Epoch 2/2\n",
            "186/186 - 91s - loss: 0.6755 - accuracy: 0.7110 - 91s/epoch - 490ms/step\n",
            "47/47 - 4s - loss: 0.7828 - accuracy: 0.6566 - 4s/epoch - 79ms/step\n",
            "WARNING:tensorflow:Layer lstm_41 will not use cuDNN kernels since it doesn't meet the criteria. It will use a generic GPU kernel as fallback when running on GPU.\n",
            "Epoch 1/2\n",
            "233/233 - 120s - loss: 0.8266 - accuracy: 0.6436 - 120s/epoch - 514ms/step\n",
            "Epoch 2/2\n",
            "233/233 - 116s - loss: 0.6816 - accuracy: 0.7050 - 116s/epoch - 497ms/step\n",
            "Best: 0.679542 using {'batch_size': 40, 'epochs': 2}\n"
          ]
        }
      ],
      "source": [
        "from keras.wrappers.scikit_learn import KerasClassifier #importing Keras classifier\n",
        "from sklearn.model_selection import GridSearchCV #importing Grid search CV\n",
        "\n",
        "model = KerasClassifier(build_fn=createmodel,verbose=2) #initiating model to test performance by applying multiple hyper parameters\n",
        "batch_size= [10, 20, 40] #hyper parameter batch_size\n",
        "epochs = [1, 2] #hyper parameter no. of epochs\n",
        "param_grid= {'batch_size':batch_size, 'epochs':epochs} #creating dictionary for batch size, no. of epochs\n",
        "grid  = GridSearchCV(estimator=model, param_grid=param_grid) #Applying dictionary with hyper parameters\n",
        "grid_result= grid.fit(X_train,Y_train) #Fitting the model\n",
        "# summarize results\n",
        "print(\"Best: %f using %s\" % (grid_result.best_score_, grid_result.best_params_)) #best score, best hyper parameters"
      ]
    },
    {
      "cell_type": "code",
      "execution_count": null,
      "metadata": {
        "id": "SLpNgVNlgfz5"
      },
      "outputs": [],
      "source": []
    }
  ],
  "metadata": {
    "accelerator": "GPU",
    "colab": {
      "provenance": []
    },
    "gpuClass": "standard",
    "kernelspec": {
      "display_name": "Python 3 (ipykernel)",
      "language": "python",
      "name": "python3"
    },
    "language_info": {
      "codemirror_mode": {
        "name": "ipython",
        "version": 3
      },
      "file_extension": ".py",
      "mimetype": "text/x-python",
      "name": "python",
      "nbconvert_exporter": "python",
      "pygments_lexer": "ipython3",
      "version": "3.8.19"
    }
  },
  "nbformat": 4,
  "nbformat_minor": 0
}