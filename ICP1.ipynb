{
  "nbformat": 4,
  "nbformat_minor": 0,
  "metadata": {
    "colab": {
      "provenance": []
    },
    "kernelspec": {
      "name": "python3",
      "display_name": "Python 3"
    },
    "language_info": {
      "name": "python"
    }
  },
  "cells": [
    {
      "cell_type": "markdown",
      "source": [
        "#Neural Networks & Deep Learning - ICP-1\n",
        "1.\tWrite a python program for the following:\n",
        "*\tInput the string “Python” as a list of characters from console, delete at least 2 characters, reverse the resultant string and print it.\n",
        "Sample input:\n",
        "** python\n",
        "**\tSample output:\n",
        "**\tntyp\n"
      ],
      "metadata": {
        "id": "7-_AzI6JTU4S"
      }
    },
    {
      "cell_type": "code",
      "execution_count": 33,
      "metadata": {
        "colab": {
          "base_uri": "https://localhost:8080/",
          "height": 52
        },
        "id": "0hw0YkCL9hE8",
        "outputId": "89436658-7578-4075-9de2-00c9dac1a013"
      },
      "outputs": [
        {
          "name": "stdout",
          "output_type": "stream",
          "text": [
            "enter your name : Python\n"
          ]
        },
        {
          "output_type": "execute_result",
          "data": {
            "text/plain": [
              "'noht'"
            ],
            "application/vnd.google.colaboratory.intrinsic+json": {
              "type": "string"
            }
          },
          "metadata": {},
          "execution_count": 33
        }
      ],
      "source": [
        "# Delete and reverse of two numbers\n",
        "text = str(input(\"enter your name : \"))\n",
        "text[2:][::-1]"
      ]
    },
    {
      "cell_type": "code",
      "source": [
        "# same with using list operations\n",
        "text = str(input(\"enter your name : \"))\n",
        "text = list(text)\n",
        "del text[:2]\n",
        "text.reverse()\n",
        "print(\"\".join(text))"
      ],
      "metadata": {
        "colab": {
          "base_uri": "https://localhost:8080/"
        },
        "id": "qdwLSqVMWi4i",
        "outputId": "6c933a3f-a609-4225-bed3-625962632939"
      },
      "execution_count": 36,
      "outputs": [
        {
          "output_type": "stream",
          "name": "stdout",
          "text": [
            "enter your name : Python\n",
            "noht\n"
          ]
        }
      ]
    },
    {
      "cell_type": "markdown",
      "source": [
        "* Take two numbers from user and perform at least 4 arithmetic operations on them."
      ],
      "metadata": {
        "id": "gcQchBD6Vxnr"
      }
    },
    {
      "cell_type": "code",
      "source": [
        "# Funtion to perform arithmetic operations on 2 numbers\n",
        "def fun():\n",
        "  num1 =  float(input(\"enter first number : \"))\n",
        "  num2 =  float(input(\"enter second number :\"))\n",
        "  print(f\"Addition of given numbers{num1+num2}\")\n",
        "  print(f\"Subtraction of given numbers{num1-num2}\")\n",
        "  print(f\"Multiplication of given numbers{num1*num2}\")\n",
        "  print(f\"Division of given numbers{num1/num2}\")\n",
        "fun()"
      ],
      "metadata": {
        "colab": {
          "base_uri": "https://localhost:8080/"
        },
        "id": "IXkyqvvLKUFx",
        "outputId": "461b5a09-cde3-4715-c7e3-691236f07019"
      },
      "execution_count": 19,
      "outputs": [
        {
          "output_type": "stream",
          "name": "stdout",
          "text": [
            "enter first number : 25\n",
            "enter second number :5\n",
            "Addition of given numbers30.0\n",
            "Subtraction of given numbers20.0\n",
            "Multiplication of given numbers125.0\n",
            "Division of given numbers5.0\n"
          ]
        }
      ]
    },
    {
      "cell_type": "markdown",
      "source": [
        "2.\tWrite a program that accepts a sentence and replace each occurrence of ‘python’ with ‘pythons’.\n",
        "*\tSample input:\n",
        "* I love playing with python\n",
        "*\tSample output:\n",
        "* I love playing with pythons\n"
      ],
      "metadata": {
        "id": "bTcyRb9PV2rX"
      }
    },
    {
      "cell_type": "code",
      "source": [
        "# Replace python with pythons\n",
        "def rep():\n",
        "  text = str(input(\"Input your string to replace python with pythons : \"))\n",
        "  print(text.replace(\"python\",\"pythons\"))\n",
        "rep()"
      ],
      "metadata": {
        "colab": {
          "base_uri": "https://localhost:8080/"
        },
        "id": "FLm2RzidOTXB",
        "outputId": "f687304a-884a-404f-95f2-03414eeab037"
      },
      "execution_count": 23,
      "outputs": [
        {
          "output_type": "stream",
          "name": "stdout",
          "text": [
            "Input your string to replace python with pythons : python is a python\n",
            "pythons is a pythons\n"
          ]
        }
      ]
    },
    {
      "cell_type": "markdown",
      "source": [
        "3.\tUse the if statement conditions to write a program to print the letter grade based on an input class score. Use the grading scheme we are using in this class."
      ],
      "metadata": {
        "id": "_8ztgCGdWHBf"
      }
    },
    {
      "cell_type": "code",
      "source": [
        "# Function to determine letter grade based on score\n",
        "def determine_grade(score):\n",
        "    if score >= 90:\n",
        "        return 'A'\n",
        "    elif score >= 80:\n",
        "        return 'B'\n",
        "    elif score >= 70:\n",
        "        return 'C'\n",
        "    elif score >= 60:\n",
        "        return 'D'\n",
        "    else:\n",
        "        return 'F'\n",
        "\n",
        "# Input: Get the class score from the user\n",
        "try:\n",
        "    score = float(input(\"Enter the class score: \"))\n",
        "    if 0 <= score <= 100:\n",
        "        grade = determine_grade(score)\n",
        "        print(f\"The letter grade is: {grade}\")\n",
        "    else:\n",
        "        print(\"Please enter a score between 0 and 100.\")\n",
        "except ValueError:\n",
        "    print(\"Invalid input. Please enter a numeric value.\")\n"
      ],
      "metadata": {
        "colab": {
          "base_uri": "https://localhost:8080/"
        },
        "id": "r80fEhs4PDvA",
        "outputId": "14a33f2f-6b99-477f-8de6-6b29fce587dd"
      },
      "execution_count": 26,
      "outputs": [
        {
          "output_type": "stream",
          "name": "stdout",
          "text": [
            "Enter the class score: 87\n",
            "The letter grade is: B\n"
          ]
        }
      ]
    },
    {
      "cell_type": "code",
      "source": [],
      "metadata": {
        "id": "S9f5C3WORlgl"
      },
      "execution_count": null,
      "outputs": []
    }
  ]
}