{
  "nbformat": 4,
  "nbformat_minor": 0,
  "metadata": {
    "colab": {
      "provenance": []
    },
    "kernelspec": {
      "name": "python3",
      "display_name": "Python 3"
    },
    "language_info": {
      "name": "python"
    }
  },
  "cells": [
    {
      "cell_type": "markdown",
      "source": [
        "#Neural Networks & Deep Learning - ICP-2\n",
        "1.\tWrite a program that takes two strings from the user: first_name, last_name. Pass these variables to fullname function that should return the\n",
        "(full name).\n",
        "*\tFor example:\n",
        "**\tFirst_name = “your first name”, last_name = “your last name”\n",
        "**\tFull_name = “your full name”\n",
        "\n",
        "*\tWrite function named “string_alternative” that returns every other char in the full_name string. Str = “Good evening”\n",
        "\n",
        "Output: Go vnn\n",
        "\n",
        "**Note:** You need to create a function named “string_alternative” for this program and call it from main function.\n"
      ],
      "metadata": {
        "id": "MKw7FARleJKF"
      }
    },
    {
      "cell_type": "code",
      "execution_count": 3,
      "metadata": {
        "colab": {
          "base_uri": "https://localhost:8080/"
        },
        "id": "zrzBV9HecB73",
        "outputId": "690b0091-0d43-4003-b290-8a26586bee6b"
      },
      "outputs": [
        {
          "output_type": "stream",
          "name": "stdout",
          "text": [
            "Enter your first name: Bonic Sandeep\n",
            "Enter your last name: Likki\n",
            "Full name: Bonic Sandeep Likki\n",
            "String with every other character: BncSnepLki\n"
          ]
        }
      ],
      "source": [
        "def fullname(first_name, last_name):\n",
        "    \"\"\"\n",
        "    This function takes the first name and last name and returns the full name.\n",
        "    \"\"\"\n",
        "    return first_name + \" \" + last_name\n",
        "\n",
        "def string_alternative(full_name):\n",
        "    \"\"\"\n",
        "    This function takes a string and returns a new string with every other character.\n",
        "    \"\"\"\n",
        "    return full_name[::2]\n",
        "\n",
        "def main():\n",
        "    # Taking user input for first name and last name\n",
        "    first_name = input(\"Enter your first name: \")\n",
        "    last_name = input(\"Enter your last name: \")\n",
        "\n",
        "    # Getting the full name by calling the fullname function\n",
        "    full_name = fullname(first_name, last_name)\n",
        "    print(\"Full name:\", full_name)\n",
        "\n",
        "    # Getting the string with every other character\n",
        "    alternative_string = string_alternative(full_name)\n",
        "    print(\"String with every other character:\", alternative_string)\n",
        "\n",
        "if __name__ == \"__main__\":\n",
        "    main()"
      ]
    },
    {
      "cell_type": "markdown",
      "source": [
        "2.\tWrite a python program to find the wordcount in a file (input.txt) for each line and then print the output.\n",
        "*\tFinally store the output in output.txt file. Example:\n",
        "\n",
        "Input: a file includes two lines:\n",
        "\n",
        "Python Course\n",
        "\n",
        "Deep Learning Course\n",
        "\n",
        "Output:\n",
        "\n",
        "Python Course\n",
        "\n",
        "Deep Learning Course Word_Count:\n",
        "\n",
        "Python: 1\n",
        "\n",
        "Course: 2\n",
        "\n",
        "Deep: 1\n",
        "\n",
        "Learning: 1\n"
      ],
      "metadata": {
        "id": "ZgrqwS7YefwX"
      }
    },
    {
      "cell_type": "code",
      "source": [
        "def count_words_in_file(input_file, output_file):\n",
        "    word_count = {}\n",
        "\n",
        "    # Read the input file line by line\n",
        "    with open(input_file, 'r') as file:\n",
        "        lines = file.readlines()\n",
        "\n",
        "    # Process each line\n",
        "    for line in lines:\n",
        "        # Print the line to the console\n",
        "        print(line.strip())\n",
        "        words = line.strip().split()\n",
        "        for word in words:\n",
        "            word = word.strip()\n",
        "            if word in word_count:\n",
        "                word_count[word] += 1\n",
        "            else:\n",
        "                word_count[word] = 1\n",
        "\n",
        "    # Print the word count to the console\n",
        "    print(\"Word_Count:\")\n",
        "    for word, count in word_count.items():\n",
        "        print(f\"{word}: {count}\")\n",
        "\n",
        "    # Write the output to the output file\n",
        "    with open(output_file, 'w') as file:\n",
        "        for line in lines:\n",
        "            file.write(line)\n",
        "        file.write(\"Word_Count:\\n\")\n",
        "        for word, count in word_count.items():\n",
        "            file.write(f\"{word}: {count}\\n\")\n",
        "\n",
        "# Specify the input and output file names\n",
        "input_file = 'input.txt'\n",
        "output_file = 'output.txt'\n",
        "\n",
        "# Call the function\n",
        "count_words_in_file(input_file, output_file)\n"
      ],
      "metadata": {
        "colab": {
          "base_uri": "https://localhost:8080/"
        },
        "id": "7d9mDPcbdTnd",
        "outputId": "9dd38aec-80e6-43f8-f1ee-ab294ba2046e"
      },
      "execution_count": 6,
      "outputs": [
        {
          "output_type": "stream",
          "name": "stdout",
          "text": [
            "Python Course\n",
            "\n",
            "Deep Learning Course\n",
            "Word_Count:\n",
            "Python: 1\n",
            "Course: 2\n",
            "Deep: 1\n",
            "Learning: 1\n"
          ]
        }
      ]
    },
    {
      "cell_type": "markdown",
      "source": [
        "3.\tWrite a program, which reads heights (inches.) of customers into a list and convert these heights to centimeters in a separate list using:\n",
        "  \n",
        "  1)\tNested Interactive loop.\n",
        "  \n",
        "  2)\tList comprehensions\n",
        "\n",
        "Example:\tL1: [150,155, 145, 148]\n",
        "\n",
        "Output: [68.03, 70.3, 65.77, 67.13]\n"
      ],
      "metadata": {
        "id": "1n6OnprjgIRP"
      }
    },
    {
      "cell_type": "code",
      "source": [
        "def convert_inches_to_cm(heights_in_inches):\n",
        "    \"\"\"\n",
        "    Convert a list of heights from inches to centimeters using a nested interactive loop.\n",
        "    \"\"\"\n",
        "    heights_in_cm = []\n",
        "    for height in heights_in_inches:\n",
        "        cm = height * 2.54\n",
        "        heights_in_cm.append(round(cm, 2))  # Rounding to 2 decimal places\n",
        "    return heights_in_cm\n",
        "\n",
        "def convert_inches_to_cm_list_comprehension(heights_in_inches):\n",
        "    \"\"\"\n",
        "    Convert a list of heights from inches to centimeters using list comprehensions.\n",
        "    \"\"\"\n",
        "    return [round(height * 2.54, 2) for height in heights_in_inches]\n",
        "\n",
        "def main():\n",
        "    # Reading heights from the user\n",
        "    heights_in_inches = []\n",
        "    n = int(input(\"Enter the number of customers: \"))\n",
        "    for _ in range(n):\n",
        "        height = float(input(\"Enter height in inches: \"))\n",
        "        heights_in_inches.append(height)\n",
        "\n",
        "    # Conversion using nested interactive loop\n",
        "    heights_in_cm_loop = convert_inches_to_cm(heights_in_inches)\n",
        "    print(\"Heights in centimeters (using loop):\", heights_in_cm_loop)\n",
        "\n",
        "    # Conversion using list comprehensions\n",
        "    heights_in_cm_comprehension = convert_inches_to_cm_list_comprehension(heights_in_inches)\n",
        "    print(\"Heights in centimeters (using list comprehension):\", heights_in_cm_comprehension)\n",
        "\n",
        "if __name__ == \"__main__\":\n",
        "    main()\n"
      ],
      "metadata": {
        "colab": {
          "base_uri": "https://localhost:8080/"
        },
        "id": "8r8SUwujdUNL",
        "outputId": "24f57d10-a90a-4bfe-c685-690f0b502837"
      },
      "execution_count": 7,
      "outputs": [
        {
          "output_type": "stream",
          "name": "stdout",
          "text": [
            "Enter the number of customers: 4\n",
            "Enter height in inches: 154\n",
            "Enter height in inches: 163\n",
            "Enter height in inches: 182\n",
            "Enter height in inches: 152\n",
            "Heights in centimeters (using loop): [391.16, 414.02, 462.28, 386.08]\n",
            "Heights in centimeters (using list comprehension): [391.16, 414.02, 462.28, 386.08]\n"
          ]
        }
      ]
    },
    {
      "cell_type": "code",
      "source": [],
      "metadata": {
        "id": "7ZNw5nyrgXSg"
      },
      "execution_count": null,
      "outputs": []
    }
  ]
}